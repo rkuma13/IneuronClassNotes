{
 "cells": [
  {
   "cell_type": "markdown",
   "metadata": {},
   "source": [
    "# Exception Handling"
   ]
  },
  {
   "cell_type": "code",
   "execution_count": 1,
   "metadata": {},
   "outputs": [
    {
     "ename": "ZeroDivisionError",
     "evalue": "division by zero",
     "output_type": "error",
     "traceback": [
      "\u001b[1;31m---------------------------------------------------------------------------\u001b[0m",
      "\u001b[1;31mZeroDivisionError\u001b[0m                         Traceback (most recent call last)",
      "\u001b[1;32m<ipython-input-1-5895e735636f>\u001b[0m in \u001b[0;36m<module>\u001b[1;34m()\u001b[0m\n\u001b[0;32m      1\u001b[0m \u001b[0ma\u001b[0m \u001b[1;33m=\u001b[0m \u001b[1;36m10\u001b[0m\u001b[1;33m\u001b[0m\u001b[0m\n\u001b[1;32m----> 2\u001b[1;33m \u001b[0ma\u001b[0m\u001b[1;33m/\u001b[0m\u001b[1;36m0\u001b[0m\u001b[1;33m\u001b[0m\u001b[0m\n\u001b[0m",
      "\u001b[1;31mZeroDivisionError\u001b[0m: division by zero"
     ]
    }
   ],
   "source": [
    "a = 10\n",
    "a/0"
   ]
  },
  {
   "cell_type": "code",
   "execution_count": 2,
   "metadata": {},
   "outputs": [
    {
     "ename": "FileNotFoundError",
     "evalue": "[Errno 2] No such file or directory: 'sudh345.txt'",
     "output_type": "error",
     "traceback": [
      "\u001b[1;31m---------------------------------------------------------------------------\u001b[0m",
      "\u001b[1;31mFileNotFoundError\u001b[0m                         Traceback (most recent call last)",
      "\u001b[1;32m<ipython-input-2-578fe4b2e0d3>\u001b[0m in \u001b[0;36m<module>\u001b[1;34m()\u001b[0m\n\u001b[1;32m----> 1\u001b[1;33m \u001b[0mf\u001b[0m\u001b[1;33m=\u001b[0m\u001b[0mopen\u001b[0m\u001b[1;33m(\u001b[0m\u001b[1;34m\"sudh345.txt\"\u001b[0m\u001b[1;33m,\u001b[0m \u001b[1;34m\"r\"\u001b[0m\u001b[1;33m)\u001b[0m\u001b[1;33m\u001b[0m\u001b[0m\n\u001b[0m",
      "\u001b[1;31mFileNotFoundError\u001b[0m: [Errno 2] No such file or directory: 'sudh345.txt'"
     ]
    }
   ],
   "source": [
    "f=open(\"sudh345.txt\", \"r\")\n",
    "print(\"this is my code to handle an exception\")"
   ]
  },
  {
   "cell_type": "code",
   "execution_count": 7,
   "metadata": {},
   "outputs": [
    {
     "name": "stdout",
     "output_type": "stream",
     "text": [
      "division by zero\n",
      "this will be final code after handling an exception\n"
     ]
    }
   ],
   "source": [
    "try:\n",
    "    a =10\n",
    "    a/0\n",
    "except Exception as e:\n",
    "    print(e)\n",
    "    print(\"this will be final code after handling an exception\")"
   ]
  },
  {
   "cell_type": "code",
   "execution_count": 14,
   "metadata": {},
   "outputs": [
    {
     "name": "stdout",
     "output_type": "stream",
     "text": [
      "[Errno 2] No such file or directory: 'Sudhanshu.txt'\n"
     ]
    }
   ],
   "source": [
    "try:\n",
    "    f=open(\"Sudhanshu.txt\",\"r\")\n",
    "    \n",
    "except Exception as e:\n",
    "    print(e)"
   ]
  },
  {
   "cell_type": "code",
   "execution_count": 15,
   "metadata": {},
   "outputs": [
    {
     "ename": "FileNotFoundError",
     "evalue": "[Errno 2] No such file or directory: 'sudh.txt'",
     "output_type": "error",
     "traceback": [
      "\u001b[1;31m---------------------------------------------------------------------------\u001b[0m",
      "\u001b[1;31mFileNotFoundError\u001b[0m                         Traceback (most recent call last)",
      "\u001b[1;32m<ipython-input-15-b695ca7bf525>\u001b[0m in \u001b[0;36m<module>\u001b[1;34m()\u001b[0m\n\u001b[1;32m----> 1\u001b[1;33m \u001b[0mf\u001b[0m\u001b[1;33m=\u001b[0m\u001b[0mopen\u001b[0m\u001b[1;33m(\u001b[0m\u001b[1;34m\"sudh.txt\"\u001b[0m \u001b[1;33m,\u001b[0m\u001b[1;34m\"r\"\u001b[0m\u001b[1;33m)\u001b[0m\u001b[1;33m\u001b[0m\u001b[0m\n\u001b[0m\u001b[0;32m      2\u001b[0m \u001b[0mf\u001b[0m\u001b[1;33m.\u001b[0m\u001b[0mwrite\u001b[0m\u001b[1;33m(\u001b[0m\u001b[1;34m\"this is my suspicious code\"\u001b[0m\u001b[1;33m)\u001b[0m\u001b[1;33m\u001b[0m\u001b[0m\n",
      "\u001b[1;31mFileNotFoundError\u001b[0m: [Errno 2] No such file or directory: 'sudh.txt'"
     ]
    }
   ],
   "source": [
    "f=open(\"sudh.txt\" ,\"r\")\n",
    "f.write(\"this is my suspicious code\")"
   ]
  },
  {
   "cell_type": "code",
   "execution_count": 17,
   "metadata": {},
   "outputs": [
    {
     "name": "stdout",
     "output_type": "stream",
     "text": [
      "[Errno 2] No such file or directory: 'sudh.txt'\n",
      "this is not my suspicious set of code\n"
     ]
    }
   ],
   "source": [
    "try:\n",
    "    f=open(\"sudh.txt\" ,\"r\")\n",
    "    f.write(\"this is my suspicious code\")\n",
    "except Exception as e:\n",
    "    print(e)\n",
    "    print(\"this is not my suspicious set of code\")"
   ]
  },
  {
   "cell_type": "code",
   "execution_count": 18,
   "metadata": {},
   "outputs": [
    {
     "name": "stdout",
     "output_type": "stream",
     "text": [
      "[Errno 2] No such file or directory: 'sudh.txt'\n",
      "this is not my suspicious set of code\n",
      "this block will be executed anytime\n"
     ]
    }
   ],
   "source": [
    "try:\n",
    "    f=open(\"sudh.txt\" ,\"r\")\n",
    "    f.write(\"this is my suspicious code\")\n",
    "except Exception as e:\n",
    "    print(e)\n",
    "    print(\"this is not my suspicious set of code\")\n",
    "finally:\n",
    "    print(\"this block will be executed anytime\")"
   ]
  },
  {
   "cell_type": "code",
   "execution_count": 21,
   "metadata": {},
   "outputs": [],
   "source": [
    "def askint():\n",
    "    try:\n",
    "        val =int(input(\"please enter an integer\"))\n",
    "    except:\n",
    "        print(\"no you hava not entered an integer\")\n",
    "        try:\n",
    "            val =int(input(\"please enter an integer\"))\n",
    "        except:\n",
    "            print(\"we are able to handle your mistake second time\")\n",
    "    finally:\n",
    "        print(\"finally will be executed anyhow\")"
   ]
  },
  {
   "cell_type": "code",
   "execution_count": 24,
   "metadata": {},
   "outputs": [
    {
     "name": "stdout",
     "output_type": "stream",
     "text": [
      "please enter an integerjk\n",
      "no you hava not entered an integer\n",
      "please enter an integer78\n",
      "finally will be executed anyhow\n"
     ]
    }
   ],
   "source": [
    "askint()\n"
   ]
  },
  {
   "cell_type": "code",
   "execution_count": 1,
   "metadata": {},
   "outputs": [],
   "source": [
    "def askint1():\n",
    "    while True:\n",
    "        try:\n",
    "            val = int(input(\"please try to input an integer \"))\n",
    "            break\n",
    "        except:\n",
    "            print(\"looks like you have not entered an integer\")\n",
    "            continue"
   ]
  },
  {
   "cell_type": "code",
   "execution_count": 2,
   "metadata": {},
   "outputs": [
    {
     "name": "stdout",
     "output_type": "stream",
     "text": [
      "please try to input an integer jakjfak\n",
      "looks like you have not entered an integer\n",
      "please try to input an integer uiu\n",
      "looks like you have not entered an integer\n",
      "please try to input an integer 233\n"
     ]
    }
   ],
   "source": [
    "askint1()"
   ]
  },
  {
   "cell_type": "code",
   "execution_count": 4,
   "metadata": {},
   "outputs": [],
   "source": [
    "def askint2():\n",
    "    while True:\n",
    "        try:\n",
    "            val = int(input(\"please try to input an integer \"))\n",
    "            break\n",
    "        except:\n",
    "            print(\"looks like you have not entered an integer\")\n",
    "            "
   ]
  },
  {
   "cell_type": "code",
   "execution_count": 5,
   "metadata": {},
   "outputs": [
    {
     "name": "stdout",
     "output_type": "stream",
     "text": [
      "please try to input an integer jafj\n",
      "looks like you have not entered an integer\n",
      "please try to input an integer uriui\n",
      "looks like you have not entered an integer\n",
      "please try to input an integer 23\n"
     ]
    }
   ],
   "source": [
    "askint2()"
   ]
  },
  {
   "cell_type": "code",
   "execution_count": 7,
   "metadata": {},
   "outputs": [
    {
     "name": "stdout",
     "output_type": "stream",
     "text": [
      "please try to input an integer jkajfk\n",
      "looks like you have not entered an integer\n",
      "please try to input an integer uu\n",
      "looks like you have not entered an integer\n",
      "please try to input an integer 787\n"
     ]
    }
   ],
   "source": [
    "while True:\n",
    "        try:\n",
    "            val = int(input(\"please try to input an integer \"))\n",
    "            break\n",
    "        except:\n",
    "            print(\"looks like you have not entered an integer\")\n",
    "            continue"
   ]
  },
  {
   "cell_type": "code",
   "execution_count": 1,
   "metadata": {},
   "outputs": [
    {
     "data": {
      "text/plain": [
       "''"
      ]
     },
     "execution_count": 1,
     "metadata": {},
     "output_type": "execute_result"
    }
   ],
   "source": [
    "f = open('test1.txt','r')\n",
    "f.read()"
   ]
  },
  {
   "cell_type": "code",
   "execution_count": 1,
   "metadata": {},
   "outputs": [
    {
     "name": "stdout",
     "output_type": "stream",
     "text": [
      " Volume in drive C has no label.\n",
      " Volume Serial Number is 0474-784D\n",
      "\n",
      " Directory of C:\\Users\\Rajan\n",
      "\n",
      "30-06-2022  23:10    <DIR>          .\n",
      "30-06-2022  23:10    <DIR>          ..\n",
      "09-06-2022  12:40    <DIR>          .anaconda\n",
      "30-06-2022  01:44               175 .angular-config.json\n",
      "11-06-2022  20:06               265 .bash_history\n",
      "30-06-2022  16:33    <DIR>          .conda\n",
      "08-06-2022  13:41               187 .gitconfig\n",
      "30-06-2022  21:36    <DIR>          .ipynb_checkpoints\n",
      "09-06-2022  12:44    <DIR>          .ipython\n",
      "11-06-2022  12:07    <DIR>          .jupyter\n",
      "29-06-2022  19:07    <DIR>          .ms-ad\n",
      "30-06-2022  01:30                 3 .node_repl_history\n",
      "18-06-2022  12:49    <DIR>          .vscode\n",
      "12-06-2022  22:51            15,791 12th June Ineuron Live class.ipynb\n",
      "18-06-2022  19:21            68,091 18 June Iterator, Generators & File Handling, map, reduce, filter, basic file operation.ipynb\n",
      "18-06-2022  12:01            52,437 21st May List, Tuple, Dict, Set.ipynb\n",
      "27-06-2022  18:34            18,032 22nd May Live Class Conditional Statement if, elif, else.ipynb\n",
      "29-06-2022  18:00             3,590 28th May Live class for loop.ipynb\n",
      "13-01-2021  23:18    <DIR>          3D Objects\n",
      "09-04-2022  23:40    <DIR>          Anaconda3\n",
      "13-01-2021  23:18    <DIR>          Contacts\n",
      "12-06-2022  01:40            38,547 Day 2 15th May Class Python String basic.ipynb\n",
      "13-01-2021  23:21    <DIR>          Documents\n",
      "30-06-2022  22:55    <DIR>          Downloads\n",
      "30-06-2022  23:10             9,777 Exception Handling revision.ipynb\n",
      "13-01-2021  23:18    <DIR>          Favorites\n",
      "13-01-2021  23:18    <DIR>          Links\n",
      "07-10-2021  01:53    <DIR>          Music\n",
      "05-11-2021  10:26    <DIR>          OneDrive\n",
      "13-01-2021  23:21    <DIR>          Pictures\n",
      "30-06-2022  21:11    <DIR>          PycharmProjects\n",
      "13-01-2021  23:18    <DIR>          Saved Games\n",
      "13-01-2021  23:20    <DIR>          Searches\n",
      "18-06-2022  16:40                36 sudh1.txt\n",
      "09-06-2022  16:23            13,525 Test.ipynb\n",
      "18-06-2022  16:50                61 test.sudh\n",
      "30-06-2022  22:33                 0 test.txt\n",
      "18-06-2022  18:59                 0 test1.txt\n",
      "18-06-2022  16:46                30 test2.txt\n",
      "18-06-2022  17:25               363 test6.txt\n",
      "08-06-2022  12:29    <DIR>          Tracing\n",
      "19-06-2022  15:20               654 Untitled.ipynb\n",
      "07-10-2021  01:53    <DIR>          Videos\n",
      "              19 File(s)        221,564 bytes\n",
      "              24 Dir(s)  96,737,456,128 bytes free\n"
     ]
    }
   ],
   "source": [
    "ls"
   ]
  },
  {
   "cell_type": "code",
   "execution_count": 2,
   "metadata": {},
   "outputs": [
    {
     "data": {
      "text/plain": [
       "'[1, 2, 3, 4, 5, 6, 7, 7, 8, 7]'"
      ]
     },
     "execution_count": 2,
     "metadata": {},
     "output_type": "execute_result"
    }
   ],
   "source": [
    "f = open('test2.txt')\n",
    "f.read()"
   ]
  },
  {
   "cell_type": "code",
   "execution_count": 3,
   "metadata": {},
   "outputs": [],
   "source": [
    "f.close()"
   ]
  },
  {
   "cell_type": "code",
   "execution_count": 4,
   "metadata": {},
   "outputs": [],
   "source": [
    "f = open('test2.txt','w')\n",
    "f.write(\"this is to just overwrite the content\")\n",
    "f.close()"
   ]
  },
  {
   "cell_type": "code",
   "execution_count": 7,
   "metadata": {},
   "outputs": [
    {
     "data": {
      "text/plain": [
       "'this is to just overwrite the content'"
      ]
     },
     "execution_count": 7,
     "metadata": {},
     "output_type": "execute_result"
    }
   ],
   "source": [
    "f = open('test2.txt','r')\n",
    "f.read()"
   ]
  },
  {
   "cell_type": "code",
   "execution_count": 8,
   "metadata": {},
   "outputs": [
    {
     "data": {
      "text/plain": [
       "4"
      ]
     },
     "execution_count": 8,
     "metadata": {},
     "output_type": "execute_result"
    }
   ],
   "source": [
    "f.seek(4)"
   ]
  },
  {
   "cell_type": "code",
   "execution_count": 9,
   "metadata": {},
   "outputs": [
    {
     "data": {
      "text/plain": [
       "' is to just overwrite the content'"
      ]
     },
     "execution_count": 9,
     "metadata": {},
     "output_type": "execute_result"
    }
   ],
   "source": [
    "f.read()"
   ]
  },
  {
   "cell_type": "code",
   "execution_count": 10,
   "metadata": {},
   "outputs": [],
   "source": [
    "f.close()"
   ]
  },
  {
   "cell_type": "code",
   "execution_count": null,
   "metadata": {},
   "outputs": [],
   "source": []
  }
 ],
 "metadata": {
  "kernelspec": {
   "display_name": "Python 3",
   "language": "python",
   "name": "python3"
  },
  "language_info": {
   "codemirror_mode": {
    "name": "ipython",
    "version": 3
   },
   "file_extension": ".py",
   "mimetype": "text/x-python",
   "name": "python",
   "nbconvert_exporter": "python",
   "pygments_lexer": "ipython3",
   "version": "3.6.5"
  }
 },
 "nbformat": 4,
 "nbformat_minor": 2
}
